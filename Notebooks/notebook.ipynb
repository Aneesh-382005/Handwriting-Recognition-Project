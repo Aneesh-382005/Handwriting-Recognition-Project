{
 "cells": [
  {
   "cell_type": "code",
   "execution_count": 25,
   "metadata": {},
   "outputs": [
    {
     "name": "stdout",
     "output_type": "stream",
     "text": [
      "Using device: cuda\n"
     ]
    }
   ],
   "source": [
    "import torch\n",
    "import torchvision\n",
    "import cv2\n",
    "\n",
    "device = torch.device(\"cuda\" if torch.cuda.is_available() else \"cpu\")\n",
    "print(f\"Using device: {device}\")"
   ]
  },
  {
   "cell_type": "code",
   "execution_count": 26,
   "metadata": {},
   "outputs": [
    {
     "name": "stdout",
     "output_type": "stream",
     "text": [
      "D:\\Handwriting-Recognition-Project\n",
      "Dataset Path: Dataset\\archive\\iam_words\n",
      "Words Path: Dataset\\archive\\iam_words\\words\n",
      "Labels Path: Dataset\\archive\\words_new.txt\n"
     ]
    }
   ],
   "source": [
    "import os\n",
    "import cv2\n",
    "import pandas as pd\n",
    "\n",
    "os.chdir('D:\\\\Handwriting-Recognition-Project')\n",
    "print(os.getcwd())\n",
    "\n",
    "datasetPATH = os.path.join('Datasets', 'archive', 'iam_words')\n",
    "wordsPATH = os.path.join(datasetPATH, 'words')\n",
    "labelsPATH = os.path.join('Datasets', 'archive', 'words_new.txt')\n",
    "\n",
    "print(\"Dataset Path:\", datasetPATH)\n",
    "print(\"Words Path:\", wordsPATH)\n",
    "print(\"Labels Path:\", labelsPATH)\n"
   ]
  },
  {
   "cell_type": "code",
   "execution_count": 31,
   "metadata": {},
   "outputs": [],
   "source": [
    "def loadLabels(labelsFile = labelsPATH, wordsPATH = wordsPATH):\n",
    "    labels = []\n",
    "\n",
    "    with open(labelsFile, 'r') as file:\n",
    "        for line in file:\n",
    "            if line.startswith('#'):  #Ignore the commented lines\n",
    "                continue\n",
    "\n",
    "            lineParts = line.strip().split()\n",
    "            if len(lineParts) < 8:\n",
    "                print(f\"Skipping line due to insufficient fields: '{line.strip()}'\")\n",
    "                continue\n",
    "\n",
    "            wordID, segmentationStatus = lineParts[0], lineParts[1]\n",
    "\n",
    "            try:\n",
    "                grayLevel = int(lineParts[2]) if len(lineParts) > 2 else None\n",
    "                x = int(lineParts[3]) if len(lineParts) > 3 else None\n",
    "                y = int(lineParts[4]) if len(lineParts) > 4 else None\n",
    "                w = int(lineParts[5]) if len(lineParts) > 5 else None\n",
    "                h = int(lineParts[6]) if len(lineParts) > 6 else None\n",
    "                grammaticalTag = lineParts[7] if len(lineParts) > 7 else None\n",
    "                \n",
    "                word = \" \".join(lineParts[8:]) if len(lineParts) > 8 else None\n",
    "\n",
    "                folder = wordID.split('-')[0]\n",
    "                subFolder = folder + '-' + wordID.split('-')[1]\n",
    "                image = f\"{wordID}.png\"\n",
    "                imagePath = os.path.join(wordsPATH, folder, subFolder, image)\n",
    "\n",
    "                if os.path.exists(imagePath):\n",
    "                    labels.append({\n",
    "                        'wordID': wordID,\n",
    "                        'segmentationStatus': segmentationStatus,\n",
    "                        'grayLevel': grayLevel,\n",
    "                        'boundingBoxX': x,\n",
    "                        'boundingBoxY': y,\n",
    "                        'boundingBoxWidth': w,\n",
    "                        'boundingBoxHeight': h,\n",
    "                        'grammaticalTag': grammaticalTag,\n",
    "                        'word': word,\n",
    "                        'imagePath': imagePath\n",
    "                    })\n",
    "                else:\n",
    "                    print(f\"Image not found for imagePath {imagePath}, skipping.\")\n",
    "            \n",
    "            except ValueError as e:\n",
    "                print(f\"Skipping line due to parsing error in integer fields: '{line.strip()}' - {e}\")\n",
    "                \n",
    "    return pd.DataFrame(labels)\n"
   ]
  },
  {
   "cell_type": "code",
   "execution_count": 36,
   "metadata": {},
   "outputs": [
    {
     "name": "stdout",
     "output_type": "stream",
     "text": [
      "           wordID segmentationStatus  grayLevel  boundingBoxX  boundingBoxY  \\\n",
      "0  a01-000u-00-00                 ok        154           408           768   \n",
      "1  a01-000u-00-01                 ok        154           507           766   \n",
      "2  a01-000u-00-02                 ok        154           796           764   \n",
      "3  a01-000u-00-03                 ok        154           919           757   \n",
      "4  a01-000u-00-04                 ok        154          1185           754   \n",
      "\n",
      "   boundingBoxWidth  boundingBoxHeight grammaticalTag  word  \\\n",
      "0                27                 51             AT     A   \n",
      "1               213                 48             NN  MOVE   \n",
      "2                70                 50             TO    to   \n",
      "3               166                 78             VB  stop   \n",
      "4               126                 61            NPT   Mr.   \n",
      "\n",
      "                                           imagePath  \n",
      "0  Dataset\\archive\\iam_words\\words\\a01\\a01-000u\\a...  \n",
      "1  Dataset\\archive\\iam_words\\words\\a01\\a01-000u\\a...  \n",
      "2  Dataset\\archive\\iam_words\\words\\a01\\a01-000u\\a...  \n",
      "3  Dataset\\archive\\iam_words\\words\\a01\\a01-000u\\a...  \n",
      "4  Dataset\\archive\\iam_words\\words\\a01\\a01-000u\\a...  \n"
     ]
    }
   ],
   "source": [
    "detailedLabels = loadLabels(labelsPATH, wordsPATH)\n",
    "print(detailedLabels.head())\n",
    "csvPath = os.path.join('Data', 'Labels.csv')\n",
    "detailedLabels.to_csv(csvPath, index=False)"
   ]
  }
 ],
 "metadata": {
  "kernelspec": {
   "display_name": "Python 3",
   "language": "python",
   "name": "python3"
  },
  "language_info": {
   "codemirror_mode": {
    "name": "ipython",
    "version": 3
   },
   "file_extension": ".py",
   "mimetype": "text/x-python",
   "name": "python",
   "nbconvert_exporter": "python",
   "pygments_lexer": "ipython3",
   "version": "3.12.6"
  }
 },
 "nbformat": 4,
 "nbformat_minor": 2
}
